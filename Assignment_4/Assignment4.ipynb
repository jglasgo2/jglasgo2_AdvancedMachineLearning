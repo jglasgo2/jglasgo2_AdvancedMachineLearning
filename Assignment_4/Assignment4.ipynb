{
  "cells": [
    {
      "cell_type": "code",
      "execution_count": null,
      "metadata": {
        "id": "3AEbCKH4bCRC"
      },
      "outputs": [],
      "source": [
        "from tensorflow.keras.datasets import imdb\n",
        "(train_data, train_labels), (test_data, test_labels) = imdb.load_data(\n",
        "    num_words=10000)"
      ]
    },
    {
      "cell_type": "code",
      "execution_count": null,
      "metadata": {
        "id": "MpFmKDf9cL_i"
      },
      "outputs": [],
      "source": [
        "word_index = imdb.get_word_index()\n",
        "reverse_word_index = dict(\n",
        "    [(value, key) for (key, value) in word_index.items()])\n",
        "decoded_review = \" \".join(\n",
        "    [reverse_word_index.get(i - 3, \"?\") for i in train_data[0]])"
      ]
    },
    {
      "cell_type": "code",
      "execution_count": null,
      "metadata": {
        "id": "tp_P3EA2cM2_"
      },
      "outputs": [],
      "source": [
        "import numpy as np\n",
        "def vectorize_sequences(sequences, dimension=10000):\n",
        "    results = np.zeros((len(sequences), dimension))\n",
        "    for i, sequence in enumerate(sequences):\n",
        "        for j in sequence:\n",
        "            results[i, j] = 1.\n",
        "    return results\n",
        "x_train = vectorize_sequences(train_data)\n",
        "x_test = vectorize_sequences(test_data)"
      ]
    },
    {
      "cell_type": "code",
      "execution_count": null,
      "metadata": {
        "id": "n5hcUM0kcokq"
      },
      "outputs": [],
      "source": [
        "y_train = np.asarray(train_labels).astype(\"float32\")\n",
        "y_test = np.asarray(test_labels).astype(\"float32\")"
      ]
    },
    {
      "cell_type": "code",
      "source": [
        "x_val = x_train[:10000]\n",
        "partial_x_train = x_train[10000:]\n",
        "y_val = y_train[:10000]\n",
        "partial_y_train = y_train[10000:]"
      ],
      "metadata": {
        "id": "wtydlx-xozuc"
      },
      "execution_count": null,
      "outputs": []
    },
    {
      "cell_type": "markdown",
      "metadata": {
        "id": "cNL-O4d_d8ZX"
      },
      "source": [
        "**1. Cut off reviews after 150 words**"
      ]
    },
    {
      "cell_type": "code",
      "source": [
        "from tensorflow.keras.preprocessing.sequence import pad_sequences\n",
        "cutoff_x_train = pad_sequences(x_train, maxlen=150, truncating='post', padding='post')\n",
        "cutoff_x_val = pad_sequences(x_val, maxlen=150, truncating='post', padding='post')\n",
        "cutoff_x_test = pad_sequences(x_test, maxlen=150, truncating='post', padding='post')"
      ],
      "metadata": {
        "id": "ChTYHPCA6he4"
      },
      "execution_count": null,
      "outputs": []
    },
    {
      "cell_type": "code",
      "execution_count": null,
      "metadata": {
        "id": "r4rogdnkldlI"
      },
      "outputs": [],
      "source": [
        "from tensorflow import keras\n",
        "from tensorflow.keras import layers\n",
        "\n",
        "def get_model(max_tokens=10000, hidden_dim=16):\n",
        "    inputs = keras.Input(shape=(max_tokens,))\n",
        "    x = layers.Dense(hidden_dim, activation=\"relu\")(inputs)\n",
        "    x = layers.Dropout(0.5)(x)\n",
        "    outputs = layers.Dense(1, activation=\"sigmoid\")(x)\n",
        "    model = keras.Model(inputs, outputs)\n",
        "    model.compile(optimizer=\"rmsprop\",\n",
        "                  loss=\"binary_crossentropy\",\n",
        "                  metrics=[\"accuracy\"])\n",
        "    return model"
      ]
    },
    {
      "cell_type": "code",
      "source": [
        "model = get_model(150)\n",
        "model.summary()\n",
        "\n",
        "\n",
        "history = model.fit(\n",
        "    cutoff_x_train,\n",
        "    y_train,\n",
        "    epochs=20,\n",
        "    batch_size=512,\n",
        "    validation_data=(cutoff_x_val, y_val)\n",
        ")\n",
        "\n",
        "test_loss, test_acc = model.evaluate(cutoff_x_test, y_test)\n",
        "print(f\"Test accuracy: {test_acc}\")"
      ],
      "metadata": {
        "colab": {
          "base_uri": "https://localhost:8080/"
        },
        "id": "AJg6UMMU8Qks",
        "outputId": "1f7d7f0d-874c-49bb-926c-6ca7267e0fcc"
      },
      "execution_count": null,
      "outputs": [
        {
          "output_type": "stream",
          "name": "stdout",
          "text": [
            "Model: \"model\"\n",
            "_________________________________________________________________\n",
            " Layer (type)                Output Shape              Param #   \n",
            "=================================================================\n",
            " input_1 (InputLayer)        [(None, 150)]             0         \n",
            "                                                                 \n",
            " dense (Dense)               (None, 16)                2416      \n",
            "                                                                 \n",
            " dropout (Dropout)           (None, 16)                0         \n",
            "                                                                 \n",
            " dense_1 (Dense)             (None, 1)                 17        \n",
            "                                                                 \n",
            "=================================================================\n",
            "Total params: 2433 (9.50 KB)\n",
            "Trainable params: 2433 (9.50 KB)\n",
            "Non-trainable params: 0 (0.00 Byte)\n",
            "_________________________________________________________________\n",
            "Epoch 1/20\n",
            "49/49 [==============================] - 3s 8ms/step - loss: 0.6989 - accuracy: 0.5508 - val_loss: 0.6556 - val_accuracy: 0.6296\n",
            "Epoch 2/20\n",
            "49/49 [==============================] - 0s 4ms/step - loss: 0.6592 - accuracy: 0.6064 - val_loss: 0.6192 - val_accuracy: 0.6707\n",
            "Epoch 3/20\n",
            "49/49 [==============================] - 0s 4ms/step - loss: 0.6321 - accuracy: 0.6394 - val_loss: 0.5931 - val_accuracy: 0.6972\n",
            "Epoch 4/20\n",
            "49/49 [==============================] - 0s 4ms/step - loss: 0.6126 - accuracy: 0.6623 - val_loss: 0.5699 - val_accuracy: 0.7159\n",
            "Epoch 5/20\n",
            "49/49 [==============================] - 0s 4ms/step - loss: 0.5947 - accuracy: 0.6811 - val_loss: 0.5598 - val_accuracy: 0.7254\n",
            "Epoch 6/20\n",
            "49/49 [==============================] - 0s 4ms/step - loss: 0.5865 - accuracy: 0.6930 - val_loss: 0.5494 - val_accuracy: 0.7296\n",
            "Epoch 7/20\n",
            "49/49 [==============================] - 0s 4ms/step - loss: 0.5805 - accuracy: 0.6972 - val_loss: 0.5441 - val_accuracy: 0.7356\n",
            "Epoch 8/20\n",
            "49/49 [==============================] - 0s 4ms/step - loss: 0.5716 - accuracy: 0.7055 - val_loss: 0.5377 - val_accuracy: 0.7367\n",
            "Epoch 9/20\n",
            "49/49 [==============================] - 0s 4ms/step - loss: 0.5687 - accuracy: 0.7060 - val_loss: 0.5331 - val_accuracy: 0.7389\n",
            "Epoch 10/20\n",
            "49/49 [==============================] - 0s 4ms/step - loss: 0.5612 - accuracy: 0.7124 - val_loss: 0.5297 - val_accuracy: 0.7402\n",
            "Epoch 11/20\n",
            "49/49 [==============================] - 0s 4ms/step - loss: 0.5581 - accuracy: 0.7119 - val_loss: 0.5258 - val_accuracy: 0.7418\n",
            "Epoch 12/20\n",
            "49/49 [==============================] - 0s 4ms/step - loss: 0.5559 - accuracy: 0.7168 - val_loss: 0.5248 - val_accuracy: 0.7428\n",
            "Epoch 13/20\n",
            "49/49 [==============================] - 0s 4ms/step - loss: 0.5533 - accuracy: 0.7216 - val_loss: 0.5261 - val_accuracy: 0.7421\n",
            "Epoch 14/20\n",
            "49/49 [==============================] - 0s 4ms/step - loss: 0.5538 - accuracy: 0.7206 - val_loss: 0.5229 - val_accuracy: 0.7439\n",
            "Epoch 15/20\n",
            "49/49 [==============================] - 0s 4ms/step - loss: 0.5487 - accuracy: 0.7262 - val_loss: 0.5212 - val_accuracy: 0.7454\n",
            "Epoch 16/20\n",
            "49/49 [==============================] - 0s 4ms/step - loss: 0.5465 - accuracy: 0.7272 - val_loss: 0.5196 - val_accuracy: 0.7451\n",
            "Epoch 17/20\n",
            "49/49 [==============================] - 0s 4ms/step - loss: 0.5498 - accuracy: 0.7228 - val_loss: 0.5188 - val_accuracy: 0.7491\n",
            "Epoch 18/20\n",
            "49/49 [==============================] - 0s 4ms/step - loss: 0.5461 - accuracy: 0.7251 - val_loss: 0.5214 - val_accuracy: 0.7472\n",
            "Epoch 19/20\n",
            "49/49 [==============================] - 0s 4ms/step - loss: 0.5449 - accuracy: 0.7283 - val_loss: 0.5175 - val_accuracy: 0.7486\n",
            "Epoch 20/20\n",
            "49/49 [==============================] - 0s 4ms/step - loss: 0.5463 - accuracy: 0.7258 - val_loss: 0.5178 - val_accuracy: 0.7482\n",
            "782/782 [==============================] - 1s 2ms/step - loss: 0.5328 - accuracy: 0.7287\n",
            "Test accuracy: 0.7287200093269348\n"
          ]
        }
      ]
    },
    {
      "cell_type": "markdown",
      "metadata": {
        "id": "fEwLPK5WleCE"
      },
      "source": [
        "**2. Restrict training samples to 100**"
      ]
    },
    {
      "cell_type": "code",
      "source": [
        "model = get_model()\n",
        "model.summary()\n",
        "\n",
        "\n",
        "history = model.fit(\n",
        "    partial_x_train[:100],\n",
        "    partial_y_train[:100],\n",
        "    epochs=20,\n",
        "    batch_size=512,\n",
        "    validation_data=(x_val, y_val)\n",
        ")\n",
        "\n",
        "test_loss, test_acc = model.evaluate(x_test, y_test)\n",
        "print(f\"Test accuracy: {test_acc}\")"
      ],
      "metadata": {
        "colab": {
          "base_uri": "https://localhost:8080/"
        },
        "id": "QXknvhLgG6Im",
        "outputId": "03feba31-5c4e-4b43-91fe-b72ca42cf382"
      },
      "execution_count": null,
      "outputs": [
        {
          "output_type": "stream",
          "name": "stdout",
          "text": [
            "Model: \"model_1\"\n",
            "_________________________________________________________________\n",
            " Layer (type)                Output Shape              Param #   \n",
            "=================================================================\n",
            " input_2 (InputLayer)        [(None, 10000)]           0         \n",
            "                                                                 \n",
            " dense_2 (Dense)             (None, 16)                160016    \n",
            "                                                                 \n",
            " dropout_1 (Dropout)         (None, 16)                0         \n",
            "                                                                 \n",
            " dense_3 (Dense)             (None, 1)                 17        \n",
            "                                                                 \n",
            "=================================================================\n",
            "Total params: 160033 (625.13 KB)\n",
            "Trainable params: 160033 (625.13 KB)\n",
            "Non-trainable params: 0 (0.00 Byte)\n",
            "_________________________________________________________________\n",
            "Epoch 1/20\n",
            "1/1 [==============================] - 2s 2s/step - loss: 0.6996 - accuracy: 0.4900 - val_loss: 0.6958 - val_accuracy: 0.4982\n",
            "Epoch 2/20\n",
            "1/1 [==============================] - 0s 163ms/step - loss: 0.6321 - accuracy: 0.6800 - val_loss: 0.6908 - val_accuracy: 0.5014\n",
            "Epoch 3/20\n",
            "1/1 [==============================] - 0s 158ms/step - loss: 0.5571 - accuracy: 0.7800 - val_loss: 0.6907 - val_accuracy: 0.5045\n",
            "Epoch 4/20\n",
            "1/1 [==============================] - 0s 169ms/step - loss: 0.4970 - accuracy: 0.9000 - val_loss: 0.6716 - val_accuracy: 0.5454\n",
            "Epoch 5/20\n",
            "1/1 [==============================] - 0s 160ms/step - loss: 0.4626 - accuracy: 0.9000 - val_loss: 0.6833 - val_accuracy: 0.5130\n",
            "Epoch 6/20\n",
            "1/1 [==============================] - 0s 161ms/step - loss: 0.4127 - accuracy: 0.8700 - val_loss: 0.6654 - val_accuracy: 0.5483\n",
            "Epoch 7/20\n",
            "1/1 [==============================] - 0s 159ms/step - loss: 0.3933 - accuracy: 0.9200 - val_loss: 0.6747 - val_accuracy: 0.5238\n",
            "Epoch 8/20\n",
            "1/1 [==============================] - 0s 162ms/step - loss: 0.3697 - accuracy: 0.9100 - val_loss: 0.6573 - val_accuracy: 0.5637\n",
            "Epoch 9/20\n",
            "1/1 [==============================] - 0s 158ms/step - loss: 0.3262 - accuracy: 0.9500 - val_loss: 0.6587 - val_accuracy: 0.5600\n",
            "Epoch 10/20\n",
            "1/1 [==============================] - 0s 176ms/step - loss: 0.2930 - accuracy: 0.9900 - val_loss: 0.6572 - val_accuracy: 0.5617\n",
            "Epoch 11/20\n",
            "1/1 [==============================] - 0s 164ms/step - loss: 0.3135 - accuracy: 0.9500 - val_loss: 0.6546 - val_accuracy: 0.5679\n",
            "Epoch 12/20\n",
            "1/1 [==============================] - 0s 166ms/step - loss: 0.2681 - accuracy: 0.9800 - val_loss: 0.6468 - val_accuracy: 0.5852\n",
            "Epoch 13/20\n",
            "1/1 [==============================] - 0s 159ms/step - loss: 0.2602 - accuracy: 0.9700 - val_loss: 0.6674 - val_accuracy: 0.5493\n",
            "Epoch 14/20\n",
            "1/1 [==============================] - 0s 159ms/step - loss: 0.2204 - accuracy: 1.0000 - val_loss: 0.6419 - val_accuracy: 0.5945\n",
            "Epoch 15/20\n",
            "1/1 [==============================] - 0s 161ms/step - loss: 0.2298 - accuracy: 1.0000 - val_loss: 0.6599 - val_accuracy: 0.5645\n",
            "Epoch 16/20\n",
            "1/1 [==============================] - 0s 158ms/step - loss: 0.2219 - accuracy: 0.9800 - val_loss: 0.6455 - val_accuracy: 0.5897\n",
            "Epoch 17/20\n",
            "1/1 [==============================] - 0s 166ms/step - loss: 0.1981 - accuracy: 0.9900 - val_loss: 0.6396 - val_accuracy: 0.6013\n",
            "Epoch 18/20\n",
            "1/1 [==============================] - 0s 160ms/step - loss: 0.1990 - accuracy: 0.9800 - val_loss: 0.6477 - val_accuracy: 0.5864\n",
            "Epoch 19/20\n",
            "1/1 [==============================] - 0s 161ms/step - loss: 0.1831 - accuracy: 0.9800 - val_loss: 0.6334 - val_accuracy: 0.6107\n",
            "Epoch 20/20\n",
            "1/1 [==============================] - 0s 165ms/step - loss: 0.1872 - accuracy: 0.9800 - val_loss: 0.6203 - val_accuracy: 0.6390\n",
            "782/782 [==============================] - 2s 2ms/step - loss: 0.6234 - accuracy: 0.6333\n",
            "Test accuracy: 0.6333199739456177\n"
          ]
        }
      ]
    },
    {
      "cell_type": "markdown",
      "source": [
        "**3. Validate Only 10,000 Samples**"
      ],
      "metadata": {
        "id": "0Mcr3k6spn2Y"
      }
    },
    {
      "cell_type": "code",
      "source": [
        "model = get_model()\n",
        "model.summary()\n",
        "\n",
        "\n",
        "history = model.fit(\n",
        "    partial_x_train,\n",
        "    partial_y_train,\n",
        "    epochs=20,\n",
        "    batch_size=512,\n",
        "    validation_data=(x_val[:10000], y_val[:10000])\n",
        ")\n",
        "\n",
        "test_loss, test_acc = model.evaluate(x_test, y_test)\n",
        "print(f\"Test accuracy: {test_acc}\")"
      ],
      "metadata": {
        "colab": {
          "base_uri": "https://localhost:8080/"
        },
        "id": "Vq5Gt_LipnXJ",
        "outputId": "dd23bc3a-16e9-49b4-aebe-81ea0d266fec"
      },
      "execution_count": null,
      "outputs": [
        {
          "output_type": "stream",
          "name": "stdout",
          "text": [
            "Model: \"model_2\"\n",
            "_________________________________________________________________\n",
            " Layer (type)                Output Shape              Param #   \n",
            "=================================================================\n",
            " input_3 (InputLayer)        [(None, 10000)]           0         \n",
            "                                                                 \n",
            " dense_4 (Dense)             (None, 16)                160016    \n",
            "                                                                 \n",
            " dropout_2 (Dropout)         (None, 16)                0         \n",
            "                                                                 \n",
            " dense_5 (Dense)             (None, 1)                 17        \n",
            "                                                                 \n",
            "=================================================================\n",
            "Total params: 160033 (625.13 KB)\n",
            "Trainable params: 160033 (625.13 KB)\n",
            "Non-trainable params: 0 (0.00 Byte)\n",
            "_________________________________________________________________\n",
            "Epoch 1/20\n",
            "30/30 [==============================] - 2s 45ms/step - loss: 0.5762 - accuracy: 0.7140 - val_loss: 0.4563 - val_accuracy: 0.8537\n",
            "Epoch 2/20\n",
            "30/30 [==============================] - 0s 13ms/step - loss: 0.4257 - accuracy: 0.8399 - val_loss: 0.3793 - val_accuracy: 0.8661\n",
            "Epoch 3/20\n",
            "30/30 [==============================] - 0s 12ms/step - loss: 0.3562 - accuracy: 0.8755 - val_loss: 0.3320 - val_accuracy: 0.8820\n",
            "Epoch 4/20\n",
            "30/30 [==============================] - 0s 13ms/step - loss: 0.3128 - accuracy: 0.8889 - val_loss: 0.3069 - val_accuracy: 0.8883\n",
            "Epoch 5/20\n",
            "30/30 [==============================] - 0s 13ms/step - loss: 0.2783 - accuracy: 0.9042 - val_loss: 0.3088 - val_accuracy: 0.8770\n",
            "Epoch 6/20\n",
            "30/30 [==============================] - 0s 13ms/step - loss: 0.2483 - accuracy: 0.9153 - val_loss: 0.2825 - val_accuracy: 0.8901\n",
            "Epoch 7/20\n",
            "30/30 [==============================] - 0s 13ms/step - loss: 0.2308 - accuracy: 0.9212 - val_loss: 0.2795 - val_accuracy: 0.8876\n",
            "Epoch 8/20\n",
            "30/30 [==============================] - 0s 13ms/step - loss: 0.2125 - accuracy: 0.9301 - val_loss: 0.2736 - val_accuracy: 0.8892\n",
            "Epoch 9/20\n",
            "30/30 [==============================] - 0s 14ms/step - loss: 0.1955 - accuracy: 0.9366 - val_loss: 0.2785 - val_accuracy: 0.8881\n",
            "Epoch 10/20\n",
            "30/30 [==============================] - 0s 13ms/step - loss: 0.1824 - accuracy: 0.9411 - val_loss: 0.2730 - val_accuracy: 0.8885\n",
            "Epoch 11/20\n",
            "30/30 [==============================] - 0s 13ms/step - loss: 0.1713 - accuracy: 0.9453 - val_loss: 0.2822 - val_accuracy: 0.8856\n",
            "Epoch 12/20\n",
            "30/30 [==============================] - 0s 13ms/step - loss: 0.1573 - accuracy: 0.9518 - val_loss: 0.2796 - val_accuracy: 0.8888\n",
            "Epoch 13/20\n",
            "30/30 [==============================] - 0s 13ms/step - loss: 0.1474 - accuracy: 0.9544 - val_loss: 0.2847 - val_accuracy: 0.8882\n",
            "Epoch 14/20\n",
            "30/30 [==============================] - 0s 13ms/step - loss: 0.1342 - accuracy: 0.9583 - val_loss: 0.2949 - val_accuracy: 0.8846\n",
            "Epoch 15/20\n",
            "30/30 [==============================] - 0s 13ms/step - loss: 0.1296 - accuracy: 0.9608 - val_loss: 0.2950 - val_accuracy: 0.8846\n",
            "Epoch 16/20\n",
            "30/30 [==============================] - 0s 13ms/step - loss: 0.1193 - accuracy: 0.9661 - val_loss: 0.2976 - val_accuracy: 0.8874\n",
            "Epoch 17/20\n",
            "30/30 [==============================] - 0s 13ms/step - loss: 0.1146 - accuracy: 0.9668 - val_loss: 0.3118 - val_accuracy: 0.8826\n",
            "Epoch 18/20\n",
            "30/30 [==============================] - 0s 13ms/step - loss: 0.1074 - accuracy: 0.9695 - val_loss: 0.3100 - val_accuracy: 0.8853\n",
            "Epoch 19/20\n",
            "30/30 [==============================] - 0s 13ms/step - loss: 0.1017 - accuracy: 0.9697 - val_loss: 0.3211 - val_accuracy: 0.8838\n",
            "Epoch 20/20\n",
            "30/30 [==============================] - 0s 13ms/step - loss: 0.0927 - accuracy: 0.9740 - val_loss: 0.3214 - val_accuracy: 0.8848\n",
            "782/782 [==============================] - 2s 2ms/step - loss: 0.3438 - accuracy: 0.8760\n",
            "Test accuracy: 0.8759999871253967\n"
          ]
        }
      ]
    },
    {
      "cell_type": "markdown",
      "source": [
        "**4. Consider only the top 10,000 words**"
      ],
      "metadata": {
        "id": "Xir4esjirImZ"
      }
    },
    {
      "cell_type": "code",
      "source": [
        "model = get_model()\n",
        "model.summary()\n",
        "\n",
        "\n",
        "history = model.fit(\n",
        "    partial_x_train,\n",
        "    partial_y_train,\n",
        "    epochs=20,\n",
        "    batch_size=512,\n",
        "    validation_data=(x_val, y_val)\n",
        ")\n",
        "\n",
        "test_loss, test_acc = model.evaluate(x_test, y_test)\n",
        "print(f\"Test accuracy: {test_acc}\")"
      ],
      "metadata": {
        "colab": {
          "base_uri": "https://localhost:8080/"
        },
        "id": "B9uqMESErIDR",
        "outputId": "a571434d-4287-4738-ac7b-9beff3c70a18"
      },
      "execution_count": null,
      "outputs": [
        {
          "output_type": "stream",
          "name": "stdout",
          "text": [
            "Model: \"model_3\"\n",
            "_________________________________________________________________\n",
            " Layer (type)                Output Shape              Param #   \n",
            "=================================================================\n",
            " input_4 (InputLayer)        [(None, 10000)]           0         \n",
            "                                                                 \n",
            " dense_6 (Dense)             (None, 16)                160016    \n",
            "                                                                 \n",
            " dropout_3 (Dropout)         (None, 16)                0         \n",
            "                                                                 \n",
            " dense_7 (Dense)             (None, 1)                 17        \n",
            "                                                                 \n",
            "=================================================================\n",
            "Total params: 160033 (625.13 KB)\n",
            "Trainable params: 160033 (625.13 KB)\n",
            "Non-trainable params: 0 (0.00 Byte)\n",
            "_________________________________________________________________\n",
            "Epoch 1/20\n",
            "30/30 [==============================] - 2s 41ms/step - loss: 0.5824 - accuracy: 0.7133 - val_loss: 0.4694 - val_accuracy: 0.8437\n",
            "Epoch 2/20\n",
            "30/30 [==============================] - 0s 14ms/step - loss: 0.4346 - accuracy: 0.8388 - val_loss: 0.3822 - val_accuracy: 0.8721\n",
            "Epoch 3/20\n",
            "30/30 [==============================] - 0s 13ms/step - loss: 0.3642 - accuracy: 0.8693 - val_loss: 0.3350 - val_accuracy: 0.8817\n",
            "Epoch 4/20\n",
            "30/30 [==============================] - 0s 13ms/step - loss: 0.3162 - accuracy: 0.8891 - val_loss: 0.3083 - val_accuracy: 0.8866\n",
            "Epoch 5/20\n",
            "30/30 [==============================] - 0s 13ms/step - loss: 0.2840 - accuracy: 0.9008 - val_loss: 0.2959 - val_accuracy: 0.8890\n",
            "Epoch 6/20\n",
            "30/30 [==============================] - 0s 13ms/step - loss: 0.2574 - accuracy: 0.9130 - val_loss: 0.2813 - val_accuracy: 0.8897\n",
            "Epoch 7/20\n",
            "30/30 [==============================] - 0s 14ms/step - loss: 0.2372 - accuracy: 0.9214 - val_loss: 0.2762 - val_accuracy: 0.8891\n",
            "Epoch 8/20\n",
            "30/30 [==============================] - 0s 13ms/step - loss: 0.2169 - accuracy: 0.9277 - val_loss: 0.2716 - val_accuracy: 0.8898\n",
            "Epoch 9/20\n",
            "30/30 [==============================] - 0s 13ms/step - loss: 0.2021 - accuracy: 0.9311 - val_loss: 0.2762 - val_accuracy: 0.8870\n",
            "Epoch 10/20\n",
            "30/30 [==============================] - 0s 13ms/step - loss: 0.1889 - accuracy: 0.9378 - val_loss: 0.2790 - val_accuracy: 0.8839\n",
            "Epoch 11/20\n",
            "30/30 [==============================] - 0s 13ms/step - loss: 0.1723 - accuracy: 0.9446 - val_loss: 0.2798 - val_accuracy: 0.8864\n",
            "Epoch 12/20\n",
            "30/30 [==============================] - 0s 13ms/step - loss: 0.1622 - accuracy: 0.9495 - val_loss: 0.2818 - val_accuracy: 0.8864\n",
            "Epoch 13/20\n",
            "30/30 [==============================] - 0s 13ms/step - loss: 0.1522 - accuracy: 0.9521 - val_loss: 0.2787 - val_accuracy: 0.8879\n",
            "Epoch 14/20\n",
            "30/30 [==============================] - 0s 13ms/step - loss: 0.1415 - accuracy: 0.9560 - val_loss: 0.2888 - val_accuracy: 0.8849\n",
            "Epoch 15/20\n",
            "30/30 [==============================] - 0s 13ms/step - loss: 0.1325 - accuracy: 0.9594 - val_loss: 0.2860 - val_accuracy: 0.8856\n",
            "Epoch 16/20\n",
            "30/30 [==============================] - 0s 14ms/step - loss: 0.1236 - accuracy: 0.9633 - val_loss: 0.2942 - val_accuracy: 0.8863\n",
            "Epoch 17/20\n",
            "30/30 [==============================] - 0s 13ms/step - loss: 0.1172 - accuracy: 0.9654 - val_loss: 0.3038 - val_accuracy: 0.8853\n",
            "Epoch 18/20\n",
            "30/30 [==============================] - 0s 14ms/step - loss: 0.1096 - accuracy: 0.9687 - val_loss: 0.3144 - val_accuracy: 0.8844\n",
            "Epoch 19/20\n",
            "30/30 [==============================] - 0s 13ms/step - loss: 0.1030 - accuracy: 0.9707 - val_loss: 0.3138 - val_accuracy: 0.8845\n",
            "Epoch 20/20\n",
            "30/30 [==============================] - 0s 13ms/step - loss: 0.0978 - accuracy: 0.9731 - val_loss: 0.3312 - val_accuracy: 0.8816\n",
            "782/782 [==============================] - 2s 2ms/step - loss: 0.3576 - accuracy: 0.8740\n",
            "Test accuracy: 0.8740400075912476\n"
          ]
        }
      ]
    },
    {
      "cell_type": "markdown",
      "source": [
        "**5. Embedded Layer vs Pretrained Word Embedding**"
      ],
      "metadata": {
        "id": "t_sgqC5HrcoN"
      }
    },
    {
      "cell_type": "code",
      "source": [
        "from tensorflow.keras.layers import Embedding\n",
        "inputs = keras.Input(shape=(None,), dtype=\"int64\")\n",
        "embedded = layers.Embedding(input_dim=10000, output_dim=16)(inputs)\n",
        "x = layers.Bidirectional(layers.LSTM(32))(embedded)\n",
        "x = layers.Dropout(0.5)(x)\n",
        "outputs = layers.Dense(1, activation=\"sigmoid\")(x)\n",
        "model = keras.Model(inputs, outputs)\n",
        "model.compile(optimizer=\"rmsprop\",\n",
        "              loss=\"binary_crossentropy\",\n",
        "              metrics=[\"accuracy\"])\n",
        "model.summary()"
      ],
      "metadata": {
        "colab": {
          "base_uri": "https://localhost:8080/"
        },
        "id": "tbdje820r5y1",
        "outputId": "2c0023ca-bf89-41a5-d8c5-f5f1760b7265"
      },
      "execution_count": null,
      "outputs": [
        {
          "output_type": "stream",
          "name": "stdout",
          "text": [
            "Model: \"model_4\"\n",
            "_________________________________________________________________\n",
            " Layer (type)                Output Shape              Param #   \n",
            "=================================================================\n",
            " input_5 (InputLayer)        [(None, None)]            0         \n",
            "                                                                 \n",
            " embedding (Embedding)       (None, None, 16)          160000    \n",
            "                                                                 \n",
            " bidirectional (Bidirection  (None, 64)                12544     \n",
            " al)                                                             \n",
            "                                                                 \n",
            " dropout_4 (Dropout)         (None, 64)                0         \n",
            "                                                                 \n",
            " dense_8 (Dense)             (None, 1)                 65        \n",
            "                                                                 \n",
            "=================================================================\n",
            "Total params: 172609 (674.25 KB)\n",
            "Trainable params: 172609 (674.25 KB)\n",
            "Non-trainable params: 0 (0.00 Byte)\n",
            "_________________________________________________________________\n"
          ]
        }
      ]
    },
    {
      "cell_type": "code",
      "source": [
        "history = model.fit(\n",
        "    partial_x_train,\n",
        "    partial_y_train,\n",
        "    epochs=20,\n",
        "    batch_size=512,\n",
        "    validation_data=(x_val, y_val)\n",
        ")\n",
        "\n",
        "test_loss, test_acc = model.evaluate(x_test, y_test)\n",
        "print(f\"Test accuracy: {test_acc}\")"
      ],
      "metadata": {
        "colab": {
          "base_uri": "https://localhost:8080/"
        },
        "id": "Y4jjctF_rcT5",
        "outputId": "a80b4b2e-e8b6-406e-b6e4-c7f7643c9ab5"
      },
      "execution_count": null,
      "outputs": [
        {
          "output_type": "stream",
          "name": "stdout",
          "text": [
            "Epoch 1/20\n",
            "30/30 [==============================] - 26s 750ms/step - loss: 0.6933 - accuracy: 0.4984 - val_loss: 0.6931 - val_accuracy: 0.5053\n",
            "Epoch 2/20\n",
            "30/30 [==============================] - 21s 704ms/step - loss: 0.6933 - accuracy: 0.4989 - val_loss: 0.6937 - val_accuracy: 0.4947\n",
            "Epoch 3/20\n",
            "30/30 [==============================] - 21s 704ms/step - loss: 0.6932 - accuracy: 0.5053 - val_loss: 0.6932 - val_accuracy: 0.4958\n",
            "Epoch 4/20\n",
            "30/30 [==============================] - 21s 704ms/step - loss: 0.6932 - accuracy: 0.5021 - val_loss: 0.6931 - val_accuracy: 0.5207\n",
            "Epoch 5/20\n",
            "30/30 [==============================] - 21s 704ms/step - loss: 0.6931 - accuracy: 0.4995 - val_loss: 0.6933 - val_accuracy: 0.4947\n",
            "Epoch 6/20\n",
            "30/30 [==============================] - 21s 703ms/step - loss: 0.6931 - accuracy: 0.5052 - val_loss: 0.6931 - val_accuracy: 0.5054\n",
            "Epoch 7/20\n",
            "30/30 [==============================] - 21s 704ms/step - loss: 0.6933 - accuracy: 0.4979 - val_loss: 0.6933 - val_accuracy: 0.4947\n",
            "Epoch 8/20\n",
            "30/30 [==============================] - 21s 704ms/step - loss: 0.6933 - accuracy: 0.5085 - val_loss: 0.6933 - val_accuracy: 0.4947\n",
            "Epoch 9/20\n",
            "30/30 [==============================] - 21s 704ms/step - loss: 0.6931 - accuracy: 0.5068 - val_loss: 0.6932 - val_accuracy: 0.4947\n",
            "Epoch 10/20\n",
            "30/30 [==============================] - 21s 704ms/step - loss: 0.6932 - accuracy: 0.5046 - val_loss: 0.6936 - val_accuracy: 0.4947\n",
            "Epoch 11/20\n",
            "30/30 [==============================] - 21s 706ms/step - loss: 0.6931 - accuracy: 0.5063 - val_loss: 0.6929 - val_accuracy: 0.5053\n",
            "Epoch 12/20\n",
            "30/30 [==============================] - 21s 706ms/step - loss: 0.6930 - accuracy: 0.5023 - val_loss: 0.6928 - val_accuracy: 0.5175\n",
            "Epoch 13/20\n",
            "30/30 [==============================] - 21s 706ms/step - loss: 0.6928 - accuracy: 0.5119 - val_loss: 0.6925 - val_accuracy: 0.5192\n",
            "Epoch 14/20\n",
            "30/30 [==============================] - 21s 706ms/step - loss: 0.6924 - accuracy: 0.5176 - val_loss: 0.6921 - val_accuracy: 0.5128\n",
            "Epoch 15/20\n",
            "30/30 [==============================] - 21s 705ms/step - loss: 0.6923 - accuracy: 0.5155 - val_loss: 0.6930 - val_accuracy: 0.5144\n",
            "Epoch 16/20\n",
            "30/30 [==============================] - 21s 704ms/step - loss: 0.6922 - accuracy: 0.5171 - val_loss: 0.6922 - val_accuracy: 0.5200\n",
            "Epoch 17/20\n",
            "30/30 [==============================] - 21s 704ms/step - loss: 0.6921 - accuracy: 0.5205 - val_loss: 0.6929 - val_accuracy: 0.5157\n",
            "Epoch 18/20\n",
            "30/30 [==============================] - 21s 704ms/step - loss: 0.6922 - accuracy: 0.5191 - val_loss: 0.6917 - val_accuracy: 0.5206\n",
            "Epoch 19/20\n",
            "30/30 [==============================] - 21s 705ms/step - loss: 0.6920 - accuracy: 0.5208 - val_loss: 0.6923 - val_accuracy: 0.5230\n",
            "Epoch 20/20\n",
            "30/30 [==============================] - 21s 704ms/step - loss: 0.6923 - accuracy: 0.5210 - val_loss: 0.6919 - val_accuracy: 0.5217\n",
            "782/782 [==============================] - 161s 206ms/step - loss: 0.6914 - accuracy: 0.5280\n",
            "Test accuracy: 0.527999997138977\n"
          ]
        }
      ]
    },
    {
      "cell_type": "code",
      "source": [
        "!wget http://nlp.stanford.edu/data/glove.6B.zip\n",
        "!unzip -q glove.6B.zip"
      ],
      "metadata": {
        "colab": {
          "base_uri": "https://localhost:8080/"
        },
        "id": "2kAEpBj-tPcF",
        "outputId": "ff7c4008-243a-461a-b957-4adeb6d6cbb1"
      },
      "execution_count": null,
      "outputs": [
        {
          "output_type": "stream",
          "name": "stdout",
          "text": [
            "--2024-04-19 23:42:31--  http://nlp.stanford.edu/data/glove.6B.zip\n",
            "Resolving nlp.stanford.edu (nlp.stanford.edu)... 171.64.67.140\n",
            "Connecting to nlp.stanford.edu (nlp.stanford.edu)|171.64.67.140|:80... connected.\n",
            "HTTP request sent, awaiting response... 302 Found\n",
            "Location: https://nlp.stanford.edu/data/glove.6B.zip [following]\n",
            "--2024-04-19 23:42:31--  https://nlp.stanford.edu/data/glove.6B.zip\n",
            "Connecting to nlp.stanford.edu (nlp.stanford.edu)|171.64.67.140|:443... connected.\n",
            "HTTP request sent, awaiting response... 301 Moved Permanently\n",
            "Location: https://downloads.cs.stanford.edu/nlp/data/glove.6B.zip [following]\n",
            "--2024-04-19 23:42:32--  https://downloads.cs.stanford.edu/nlp/data/glove.6B.zip\n",
            "Resolving downloads.cs.stanford.edu (downloads.cs.stanford.edu)... 171.64.64.22\n",
            "Connecting to downloads.cs.stanford.edu (downloads.cs.stanford.edu)|171.64.64.22|:443... connected.\n",
            "HTTP request sent, awaiting response... 200 OK\n",
            "Length: 862182613 (822M) [application/zip]\n",
            "Saving to: ‘glove.6B.zip’\n",
            "\n",
            "glove.6B.zip        100%[===================>] 822.24M  5.02MB/s    in 2m 38s  \n",
            "\n",
            "2024-04-19 23:45:11 (5.19 MB/s) - ‘glove.6B.zip’ saved [862182613/862182613]\n",
            "\n"
          ]
        }
      ]
    },
    {
      "cell_type": "code",
      "source": [
        "import numpy as np\n",
        "path_to_glove_file = \"glove.6B.100d.txt\"\n",
        "\n",
        "embeddings_index = {}\n",
        "with open(path_to_glove_file) as f:\n",
        "    for line in f:\n",
        "        word, coefs = line.split(maxsplit=1)\n",
        "        coefs = np.fromstring(coefs, \"f\", sep=\" \")\n",
        "        embeddings_index[word] = coefs\n",
        "\n",
        "print(f\"Found {len(embeddings_index)} word vectors.\")"
      ],
      "metadata": {
        "colab": {
          "base_uri": "https://localhost:8080/"
        },
        "id": "oCnETb-AttPB",
        "outputId": "36d7c770-92ca-4047-80fd-249276dc1c86"
      },
      "execution_count": null,
      "outputs": [
        {
          "output_type": "stream",
          "name": "stdout",
          "text": [
            "Found 400000 word vectors.\n"
          ]
        }
      ]
    },
    {
      "cell_type": "code",
      "source": [
        "from tensorflow.keras.layers import TextVectorization\n",
        "\n",
        "max_length = 200\n",
        "max_tokens = 10000\n",
        "\n",
        "embedding_dim = 100\n",
        "\n",
        "text_vectorization = TextVectorization(\n",
        "    max_tokens=max_tokens,\n",
        "    output_sequence_length=max_length,\n",
        "    output_mode=\"int\"\n",
        ")\n",
        "\n",
        "vocabulary = text_vectorization.get_vocabulary()\n",
        "word_index = dict(zip(vocabulary, range(len(vocabulary))))\n",
        "\n",
        "embedding_matrix = np.zeros((max_tokens, embedding_dim))\n",
        "for word, i in word_index.items():\n",
        "    if i < max_tokens:\n",
        "        embedding_vector = embeddings_index.get(word)\n",
        "    if embedding_vector is not None:\n",
        "        embedding_matrix[i] = embedding_vector"
      ],
      "metadata": {
        "id": "8tvfIZUEt6Ab"
      },
      "execution_count": null,
      "outputs": []
    },
    {
      "cell_type": "code",
      "source": [
        "embedding_layer = layers.Embedding(\n",
        "    max_tokens,\n",
        "    embedding_dim,\n",
        "    embeddings_initializer=keras.initializers.Constant(embedding_matrix),\n",
        "    trainable=False,\n",
        "    mask_zero=True,\n",
        ")"
      ],
      "metadata": {
        "id": "LsxWEVfEt9KF"
      },
      "execution_count": null,
      "outputs": []
    },
    {
      "cell_type": "code",
      "source": [
        "inputs = keras.Input(shape=(None, ), dtype=\"int64\")\n",
        "embedded = embedding_layer(inputs)\n",
        "x = layers.Bidirectional(layers.LSTM(32))(embedded)\n",
        "x = layers.Dropout(0.5)(x)\n",
        "outputs = layers.Dense(1, activation=\"sigmoid\")(x)\n",
        "model = keras.Model(inputs, outputs)\n",
        "model.compile(optimizer=\"rmsprop\",\n",
        "              loss=\"binary_crossentropy\",\n",
        "              metrics=[\"accuracy\"])\n",
        "model.summary()"
      ],
      "metadata": {
        "colab": {
          "base_uri": "https://localhost:8080/"
        },
        "id": "fI3p-NTiuB1s",
        "outputId": "f3be6b57-f34e-440c-f411-28853b7390b8"
      },
      "execution_count": null,
      "outputs": [
        {
          "output_type": "stream",
          "name": "stdout",
          "text": [
            "Model: \"model_10\"\n",
            "_________________________________________________________________\n",
            " Layer (type)                Output Shape              Param #   \n",
            "=================================================================\n",
            " input_11 (InputLayer)       [(None, None)]            0         \n",
            "                                                                 \n",
            " embedding_4 (Embedding)     (None, None, 100)         1000000   \n",
            "                                                                 \n",
            " bidirectional_6 (Bidirecti  (None, 64)                34048     \n",
            " onal)                                                           \n",
            "                                                                 \n",
            " dropout_10 (Dropout)        (None, 64)                0         \n",
            "                                                                 \n",
            " dense_14 (Dense)            (None, 1)                 65        \n",
            "                                                                 \n",
            "=================================================================\n",
            "Total params: 1034113 (3.94 MB)\n",
            "Trainable params: 34113 (133.25 KB)\n",
            "Non-trainable params: 1000000 (3.81 MB)\n",
            "_________________________________________________________________\n"
          ]
        }
      ]
    },
    {
      "cell_type": "code",
      "source": [
        "history = model.fit(\n",
        "    partial_x_train[:500],\n",
        "    partial_y_train[:500],\n",
        "    epochs=20,\n",
        "    batch_size=512,\n",
        "    validation_data=(x_val, y_val)\n",
        ")\n",
        "\n",
        "test_loss, test_acc = model.evaluate(x_test, y_test)\n",
        "print(f\"Test accuracy: {test_acc}\")"
      ],
      "metadata": {
        "colab": {
          "base_uri": "https://localhost:8080/"
        },
        "id": "S9uAlhKyuGBk",
        "outputId": "8eb278f9-4b2b-4b65-9cc3-f517f527e4f8"
      },
      "execution_count": null,
      "outputs": [
        {
          "output_type": "stream",
          "name": "stdout",
          "text": [
            "Epoch 1/20\n",
            "1/1 [==============================] - 22s 22s/step - loss: 0.6908 - accuracy: 0.5340 - val_loss: 0.6863 - val_accuracy: 0.5800\n",
            "Epoch 2/20\n",
            "1/1 [==============================] - 22s 22s/step - loss: 0.6909 - accuracy: 0.5340 - val_loss: 0.6861 - val_accuracy: 0.5800\n",
            "Epoch 3/20\n",
            "1/1 [==============================] - 22s 22s/step - loss: 0.6909 - accuracy: 0.5340 - val_loss: 0.6860 - val_accuracy: 0.5800\n",
            "Epoch 4/20\n",
            "1/1 [==============================] - 22s 22s/step - loss: 0.6901 - accuracy: 0.5340 - val_loss: 0.6858 - val_accuracy: 0.5800\n",
            "Epoch 5/20\n",
            "1/1 [==============================] - 22s 22s/step - loss: 0.6918 - accuracy: 0.5340 - val_loss: 0.6858 - val_accuracy: 0.5800\n",
            "Epoch 6/20\n",
            "1/1 [==============================] - 23s 23s/step - loss: 0.6919 - accuracy: 0.5340 - val_loss: 0.6858 - val_accuracy: 0.5800\n",
            "Epoch 7/20\n",
            "1/1 [==============================] - 23s 23s/step - loss: 0.6911 - accuracy: 0.5340 - val_loss: 0.6858 - val_accuracy: 0.5800\n",
            "Epoch 8/20\n",
            "1/1 [==============================] - 22s 22s/step - loss: 0.6903 - accuracy: 0.5340 - val_loss: 0.6856 - val_accuracy: 0.5800\n",
            "Epoch 9/20\n",
            "1/1 [==============================] - 22s 22s/step - loss: 0.6904 - accuracy: 0.5340 - val_loss: 0.6855 - val_accuracy: 0.5800\n",
            "Epoch 10/20\n",
            "1/1 [==============================] - 22s 22s/step - loss: 0.6906 - accuracy: 0.5340 - val_loss: 0.6853 - val_accuracy: 0.5800\n",
            "Epoch 11/20\n",
            "1/1 [==============================] - 23s 23s/step - loss: 0.6907 - accuracy: 0.5340 - val_loss: 0.6852 - val_accuracy: 0.5800\n",
            "Epoch 12/20\n",
            "1/1 [==============================] - 23s 23s/step - loss: 0.6893 - accuracy: 0.5340 - val_loss: 0.6849 - val_accuracy: 0.5800\n",
            "Epoch 13/20\n",
            "1/1 [==============================] - 23s 23s/step - loss: 0.6906 - accuracy: 0.5340 - val_loss: 0.6848 - val_accuracy: 0.5800\n",
            "Epoch 14/20\n",
            "1/1 [==============================] - 22s 22s/step - loss: 0.6906 - accuracy: 0.5340 - val_loss: 0.6848 - val_accuracy: 0.5800\n",
            "Epoch 15/20\n",
            "1/1 [==============================] - 22s 22s/step - loss: 0.6910 - accuracy: 0.5340 - val_loss: 0.6848 - val_accuracy: 0.5800\n",
            "Epoch 16/20\n",
            "1/1 [==============================] - 22s 22s/step - loss: 0.6900 - accuracy: 0.5340 - val_loss: 0.6846 - val_accuracy: 0.5800\n",
            "Epoch 17/20\n",
            "1/1 [==============================] - 22s 22s/step - loss: 0.6905 - accuracy: 0.5340 - val_loss: 0.6846 - val_accuracy: 0.5800\n",
            "Epoch 18/20\n",
            "1/1 [==============================] - 22s 22s/step - loss: 0.6915 - accuracy: 0.5340 - val_loss: 0.6847 - val_accuracy: 0.5800\n",
            "Epoch 19/20\n",
            "1/1 [==============================] - 23s 23s/step - loss: 0.6911 - accuracy: 0.5340 - val_loss: 0.6847 - val_accuracy: 0.5800\n",
            "Epoch 20/20\n",
            "1/1 [==============================] - 22s 22s/step - loss: 0.6915 - accuracy: 0.5340 - val_loss: 0.6849 - val_accuracy: 0.5800\n",
            "782/782 [==============================] - 2392s 3s/step - loss: 0.6953 - accuracy: 0.5000\n",
            "Test accuracy: 0.5\n"
          ]
        }
      ]
    },
    {
      "cell_type": "code",
      "source": [
        "text_vectorization = TextVectorization(\n",
        "    max_tokens=max_tokens,\n",
        "    output_sequence_length=max_length,\n",
        "    output_mode=\"int\"\n",
        ")\n",
        "train_texts = [\" \".join([reverse_word_index.get(i - 3, '?') for i in review]) for review in train_data[:10000]]\n",
        "x_val_texts = [\" \".join([reverse_word_index.get(i - 3, '?') for i in review]) for review in x_val[:10000]]\n",
        "\n",
        "train_texts = np.array(train_texts).reshape(-1)\n",
        "x_val_texts = np.array(x_val_texts).reshape(-1)\n",
        "\n",
        "text_vectorization.adapt(train_texts)"
      ],
      "metadata": {
        "id": "nCpWHqMG7WDu"
      },
      "execution_count": null,
      "outputs": []
    },
    {
      "cell_type": "code",
      "source": [
        "train_texts.shape"
      ],
      "metadata": {
        "colab": {
          "base_uri": "https://localhost:8080/"
        },
        "id": "uIrCEbX_HEkW",
        "outputId": "6eea6a33-62bb-443c-cbab-78c4cf44313f"
      },
      "execution_count": null,
      "outputs": [
        {
          "output_type": "execute_result",
          "data": {
            "text/plain": [
              "(10000,)"
            ]
          },
          "metadata": {},
          "execution_count": 66
        }
      ]
    },
    {
      "cell_type": "code",
      "source": [
        "model = keras.Sequential([\n",
        "    text_vectorization,\n",
        "    embedding_layer,\n",
        "    layers.Bidirectional(layers.LSTM(32)),\n",
        "    layers.Dense(1, activation=\"sigmoid\")\n",
        "])\n",
        "model.compile(optimizer=\"rmsprop\",\n",
        "              loss=\"binary_crossentropy\",\n",
        "              metrics=[\"accuracy\"])\n",
        "model.summary()"
      ],
      "metadata": {
        "colab": {
          "base_uri": "https://localhost:8080/"
        },
        "id": "9hUn_496FMWY",
        "outputId": "9b80fb32-a1a0-43fc-844a-f827e147227b"
      },
      "execution_count": null,
      "outputs": [
        {
          "output_type": "stream",
          "name": "stdout",
          "text": [
            "Model: \"sequential_3\"\n",
            "_________________________________________________________________\n",
            " Layer (type)                Output Shape              Param #   \n",
            "=================================================================\n",
            " text_vectorization_15 (Tex  (None, 200)               0         \n",
            " tVectorization)                                                 \n",
            "                                                                 \n",
            " embedding_6 (Embedding)     multiple                  1000000   \n",
            "                                                                 \n",
            " bidirectional_12 (Bidirect  (None, 64)                34048     \n",
            " ional)                                                          \n",
            "                                                                 \n",
            " dense_20 (Dense)            (None, 1)                 65        \n",
            "                                                                 \n",
            "=================================================================\n",
            "Total params: 1034113 (3.94 MB)\n",
            "Trainable params: 34113 (133.25 KB)\n",
            "Non-trainable params: 1000000 (3.81 MB)\n",
            "_________________________________________________________________\n"
          ]
        }
      ]
    },
    {
      "cell_type": "code",
      "source": [
        "model.fit(\n",
        "    train_texts,\n",
        "    train_labels[:10000],\n",
        "    epochs=20,\n",
        "    batch_size=32,\n",
        "    validation_data=(x_val_texts, y_val[:10000])\n",
        ")"
      ],
      "metadata": {
        "colab": {
          "base_uri": "https://localhost:8080/"
        },
        "id": "bxotaeAFFbHw",
        "outputId": "07218500-c606-4187-e523-2f7223d81906"
      },
      "execution_count": null,
      "outputs": [
        {
          "output_type": "stream",
          "name": "stdout",
          "text": [
            "Epoch 1/20\n",
            "313/313 [==============================] - 56s 151ms/step - loss: 0.6909 - accuracy: 0.5364 - val_loss: 0.6931 - val_accuracy: 0.5053\n",
            "Epoch 2/20\n",
            "313/313 [==============================] - 43s 137ms/step - loss: 0.6731 - accuracy: 0.5810 - val_loss: 0.6931 - val_accuracy: 0.5053\n",
            "Epoch 3/20\n",
            "313/313 [==============================] - 43s 136ms/step - loss: 0.6551 - accuracy: 0.6089 - val_loss: 0.6931 - val_accuracy: 0.5053\n",
            "Epoch 4/20\n",
            "313/313 [==============================] - 44s 139ms/step - loss: 0.6331 - accuracy: 0.6427 - val_loss: 0.6931 - val_accuracy: 0.5053\n",
            "Epoch 5/20\n",
            "313/313 [==============================] - 43s 138ms/step - loss: 0.6088 - accuracy: 0.6620 - val_loss: 0.6931 - val_accuracy: 0.5053\n",
            "Epoch 6/20\n",
            "313/313 [==============================] - 43s 138ms/step - loss: 0.5840 - accuracy: 0.6890 - val_loss: 0.6931 - val_accuracy: 0.5053\n",
            "Epoch 7/20\n",
            "313/313 [==============================] - 44s 140ms/step - loss: 0.5573 - accuracy: 0.7181 - val_loss: 0.6931 - val_accuracy: 0.5053\n",
            "Epoch 8/20\n",
            "313/313 [==============================] - 44s 140ms/step - loss: 0.5288 - accuracy: 0.7326 - val_loss: 0.6931 - val_accuracy: 0.5053\n",
            "Epoch 9/20\n",
            "313/313 [==============================] - 43s 138ms/step - loss: 0.5041 - accuracy: 0.7488 - val_loss: 0.6931 - val_accuracy: 0.5053\n",
            "Epoch 10/20\n",
            "313/313 [==============================] - 43s 138ms/step - loss: 0.4734 - accuracy: 0.7729 - val_loss: 0.6931 - val_accuracy: 0.5053\n",
            "Epoch 11/20\n",
            "313/313 [==============================] - 44s 140ms/step - loss: 0.4461 - accuracy: 0.7896 - val_loss: 0.6931 - val_accuracy: 0.5053\n",
            "Epoch 12/20\n",
            "313/313 [==============================] - 43s 138ms/step - loss: 0.4171 - accuracy: 0.8053 - val_loss: 0.6931 - val_accuracy: 0.5053\n",
            "Epoch 13/20\n",
            "313/313 [==============================] - 43s 138ms/step - loss: 0.3968 - accuracy: 0.8189 - val_loss: 0.6931 - val_accuracy: 0.5053\n",
            "Epoch 14/20\n",
            "313/313 [==============================] - 44s 141ms/step - loss: 0.3687 - accuracy: 0.8366 - val_loss: 0.6931 - val_accuracy: 0.5053\n",
            "Epoch 15/20\n",
            "313/313 [==============================] - 43s 138ms/step - loss: 0.3379 - accuracy: 0.8547 - val_loss: 0.6931 - val_accuracy: 0.5053\n",
            "Epoch 16/20\n",
            "313/313 [==============================] - 43s 137ms/step - loss: 0.3088 - accuracy: 0.8682 - val_loss: 0.6931 - val_accuracy: 0.5053\n",
            "Epoch 17/20\n",
            "313/313 [==============================] - 44s 140ms/step - loss: 0.2836 - accuracy: 0.8799 - val_loss: 0.6931 - val_accuracy: 0.5053\n",
            "Epoch 18/20\n",
            "313/313 [==============================] - 43s 137ms/step - loss: 0.2557 - accuracy: 0.8941 - val_loss: 0.6931 - val_accuracy: 0.5053\n",
            "Epoch 19/20\n",
            "313/313 [==============================] - 43s 137ms/step - loss: 0.2267 - accuracy: 0.9090 - val_loss: 0.6931 - val_accuracy: 0.5053\n",
            "Epoch 20/20\n",
            "313/313 [==============================] - 44s 140ms/step - loss: 0.2034 - accuracy: 0.9213 - val_loss: 0.6931 - val_accuracy: 0.5053\n"
          ]
        },
        {
          "output_type": "execute_result",
          "data": {
            "text/plain": [
              "<keras.src.callbacks.History at 0x7f937c5b7280>"
            ]
          },
          "metadata": {},
          "execution_count": 69
        }
      ]
    },
    {
      "cell_type": "code",
      "source": [
        "x_test_texts = [\" \".join([reverse_word_index.get(i - 3, '?') for i in review]) for review in x_test[:10000]]"
      ],
      "metadata": {
        "id": "UOKAtezCIpkl"
      },
      "execution_count": null,
      "outputs": []
    },
    {
      "cell_type": "code",
      "source": [
        "x_test_sequences = np.array(x_test_texts).reshape(-1)"
      ],
      "metadata": {
        "id": "Ofx7JSASM91z"
      },
      "execution_count": null,
      "outputs": []
    },
    {
      "cell_type": "code",
      "source": [
        "x_test_sequences.shape"
      ],
      "metadata": {
        "colab": {
          "base_uri": "https://localhost:8080/"
        },
        "id": "LCwBDFf5NBms",
        "outputId": "fb8b5cd1-f9cf-4759-e005-e8601136c410"
      },
      "execution_count": null,
      "outputs": [
        {
          "output_type": "execute_result",
          "data": {
            "text/plain": [
              "(10000,)"
            ]
          },
          "metadata": {},
          "execution_count": 95
        }
      ]
    },
    {
      "cell_type": "code",
      "source": [
        "y_test[:10000].shape"
      ],
      "metadata": {
        "colab": {
          "base_uri": "https://localhost:8080/"
        },
        "id": "eASIev2nNIXg",
        "outputId": "61433277-56d3-4f67-f37f-c32258f18f06"
      },
      "execution_count": null,
      "outputs": [
        {
          "output_type": "execute_result",
          "data": {
            "text/plain": [
              "(10000,)"
            ]
          },
          "metadata": {},
          "execution_count": 96
        }
      ]
    },
    {
      "cell_type": "code",
      "source": [
        "test_loss, test_acc = model.evaluate(x_test_sequences, y_test[:10000])\n",
        "print(f\"Test accuracy: {test_acc}\")"
      ],
      "metadata": {
        "colab": {
          "base_uri": "https://localhost:8080/"
        },
        "id": "SVgZrfiZMWFZ",
        "outputId": "fd65cc7c-405b-43b4-b86a-a370c82906d6"
      },
      "execution_count": null,
      "outputs": [
        {
          "output_type": "stream",
          "name": "stdout",
          "text": [
            "313/313 [==============================] - 38s 123ms/step - loss: 0.6932 - accuracy: 0.4973\n",
            "Test accuracy: 0.49729999899864197\n"
          ]
        }
      ]
    },
    {
      "cell_type": "markdown",
      "source": [
        "Test accuracy did not perform well.  Starting over from beginning."
      ],
      "metadata": {
        "id": "cussQ9FpPGuB"
      }
    },
    {
      "cell_type": "code",
      "source": [
        "(train_data, train_labels), (test_data, test_labels) = imdb.load_data(num_words=10000)\n",
        "\n",
        "word_index = imdb.get_word_index()\n",
        "index_word = {i: word for word, i in word_index.items()}"
      ],
      "metadata": {
        "id": "nP5ZmzrBQ40x"
      },
      "execution_count": null,
      "outputs": []
    },
    {
      "cell_type": "code",
      "source": [
        "text_vectorization = TextVectorization(\n",
        "    max_tokens=max_tokens,\n",
        "    output_sequence_length=max_length,\n",
        "    output_mode=\"int\"\n",
        ")\n",
        "\n",
        "train_texts = [' '.join([index_word.get(i - 3, '?') for i in review]) for review in train_data]\n",
        "text_vectorization.adapt(train_texts)"
      ],
      "metadata": {
        "id": "rgdJ0NnzQ8GW"
      },
      "execution_count": null,
      "outputs": []
    },
    {
      "cell_type": "code",
      "source": [
        "path_to_glove_file = \"glove.6B.100d.txt\"\n",
        "embeddings_index = {}\n",
        "with open(path_to_glove_file) as f:\n",
        "    for line in f:\n",
        "        word, coefs = line.split(maxsplit=1)\n",
        "        coefs = np.fromstring(coefs, \"f\", sep=\" \")\n",
        "        embeddings_index[word] = coefs\n",
        "\n",
        "embedding_dim = 100\n",
        "embedding_matrix = np.zeros((max_tokens, embedding_dim))\n",
        "for word, i in word_index.items():\n",
        "    if i < max_tokens:\n",
        "        embedding_vector = embeddings_index.get(word)\n",
        "        if embedding_vector is not None:\n",
        "            embedding_matrix[i] = embedding_vector\n",
        "\n",
        "embedding_layer = Embedding(\n",
        "    max_tokens,\n",
        "    embedding_dim,\n",
        "    embeddings_initializer=keras.initializers.Constant(embedding_matrix),\n",
        "    trainable=False,\n",
        "    mask_zero=True\n",
        ")"
      ],
      "metadata": {
        "id": "yBPjwBhSRA2w"
      },
      "execution_count": null,
      "outputs": []
    },
    {
      "cell_type": "code",
      "source": [
        "decoded_test_data = [[index_word.get(i - 3, '?') for i in review] for review in test_data]\n",
        "decoded_test_array = np.array([\" \".join(review) for review in decoded_test_data])\n",
        "vectorized_test = text_vectorization(decoded_test_array).numpy()\n",
        "\n",
        "vectorized_train = text_vectorization(np.array([[s] for s in train_texts])).numpy()"
      ],
      "metadata": {
        "id": "DRkLa6eeRFL1"
      },
      "execution_count": null,
      "outputs": []
    },
    {
      "cell_type": "code",
      "source": [
        "inputs = keras.Input(shape=(None,), dtype=\"int64\")\n",
        "x = embedding_layer(inputs)\n",
        "x = layers.Bidirectional(layers.LSTM(32))(x)\n",
        "x = layers.Dropout(0.5)(x)\n",
        "outputs = layers.Dense(1, activation=\"sigmoid\")(x)\n",
        "model = keras.Model(inputs, outputs)\n",
        "model.compile(optimizer=\"rmsprop\", loss=\"binary_crossentropy\", metrics=[\"accuracy\"])"
      ],
      "metadata": {
        "id": "DABmuNXXRGKX"
      },
      "execution_count": null,
      "outputs": []
    },
    {
      "cell_type": "code",
      "source": [
        "model.fit(\n",
        "    vectorized_train,\n",
        "    np.array(train_labels),\n",
        "    epochs=20,\n",
        "    batch_size=512,\n",
        "    validation_split=0.2\n",
        ")\n",
        "\n",
        "test_loss, test_acc = model.evaluate(vectorized_test, np.array(test_labels))\n",
        "print(f\"Test accuracy: {test_acc}\")"
      ],
      "metadata": {
        "colab": {
          "base_uri": "https://localhost:8080/"
        },
        "id": "9SAaj94oPNdB",
        "outputId": "227af86a-9d30-4387-d4b9-b156b8b6fe79"
      },
      "execution_count": null,
      "outputs": [
        {
          "output_type": "stream",
          "name": "stdout",
          "text": [
            "Epoch 1/20\n",
            "40/40 [==============================] - 11s 88ms/step - loss: 0.7016 - accuracy: 0.5165 - val_loss: 0.6929 - val_accuracy: 0.5208\n",
            "Epoch 2/20\n",
            "40/40 [==============================] - 1s 29ms/step - loss: 0.6890 - accuracy: 0.5369 - val_loss: 0.6914 - val_accuracy: 0.5260\n",
            "Epoch 3/20\n",
            "40/40 [==============================] - 1s 29ms/step - loss: 0.6830 - accuracy: 0.5608 - val_loss: 0.6776 - val_accuracy: 0.5784\n",
            "Epoch 4/20\n",
            "40/40 [==============================] - 1s 27ms/step - loss: 0.6742 - accuracy: 0.5763 - val_loss: 0.7079 - val_accuracy: 0.5246\n",
            "Epoch 5/20\n",
            "40/40 [==============================] - 1s 26ms/step - loss: 0.6694 - accuracy: 0.5903 - val_loss: 0.6580 - val_accuracy: 0.6070\n",
            "Epoch 6/20\n",
            "40/40 [==============================] - 1s 26ms/step - loss: 0.6605 - accuracy: 0.6077 - val_loss: 0.6608 - val_accuracy: 0.6010\n",
            "Epoch 7/20\n",
            "40/40 [==============================] - 1s 26ms/step - loss: 0.6547 - accuracy: 0.6176 - val_loss: 0.6338 - val_accuracy: 0.6396\n",
            "Epoch 8/20\n",
            "40/40 [==============================] - 1s 26ms/step - loss: 0.6467 - accuracy: 0.6245 - val_loss: 0.7429 - val_accuracy: 0.5236\n",
            "Epoch 9/20\n",
            "40/40 [==============================] - 1s 26ms/step - loss: 0.6450 - accuracy: 0.6307 - val_loss: 0.7865 - val_accuracy: 0.5068\n",
            "Epoch 10/20\n",
            "40/40 [==============================] - 1s 26ms/step - loss: 0.6363 - accuracy: 0.6389 - val_loss: 0.6807 - val_accuracy: 0.5902\n",
            "Epoch 11/20\n",
            "40/40 [==============================] - 1s 26ms/step - loss: 0.6344 - accuracy: 0.6399 - val_loss: 0.7081 - val_accuracy: 0.5514\n",
            "Epoch 12/20\n",
            "40/40 [==============================] - 1s 26ms/step - loss: 0.6281 - accuracy: 0.6453 - val_loss: 0.6224 - val_accuracy: 0.6468\n",
            "Epoch 13/20\n",
            "40/40 [==============================] - 1s 26ms/step - loss: 0.6236 - accuracy: 0.6530 - val_loss: 0.7739 - val_accuracy: 0.5170\n",
            "Epoch 14/20\n",
            "40/40 [==============================] - 1s 27ms/step - loss: 0.6169 - accuracy: 0.6619 - val_loss: 0.6027 - val_accuracy: 0.6730\n",
            "Epoch 15/20\n",
            "40/40 [==============================] - 1s 28ms/step - loss: 0.6114 - accuracy: 0.6625 - val_loss: 0.6416 - val_accuracy: 0.6262\n",
            "Epoch 16/20\n",
            "40/40 [==============================] - 1s 28ms/step - loss: 0.6064 - accuracy: 0.6689 - val_loss: 0.6114 - val_accuracy: 0.6604\n",
            "Epoch 17/20\n",
            "40/40 [==============================] - 1s 28ms/step - loss: 0.6009 - accuracy: 0.6761 - val_loss: 0.7270 - val_accuracy: 0.5584\n",
            "Epoch 18/20\n",
            "40/40 [==============================] - 1s 28ms/step - loss: 0.5957 - accuracy: 0.6830 - val_loss: 0.6689 - val_accuracy: 0.6376\n",
            "Epoch 19/20\n",
            "40/40 [==============================] - 1s 28ms/step - loss: 0.5960 - accuracy: 0.6812 - val_loss: 0.6217 - val_accuracy: 0.6556\n",
            "Epoch 20/20\n",
            "40/40 [==============================] - 1s 27ms/step - loss: 0.5867 - accuracy: 0.6853 - val_loss: 0.6114 - val_accuracy: 0.6560\n",
            "782/782 [==============================] - 6s 8ms/step - loss: 0.6193 - accuracy: 0.6399\n",
            "Test accuracy: 0.6398800015449524\n"
          ]
        }
      ]
    }
  ],
  "metadata": {
    "accelerator": "GPU",
    "colab": {
      "gpuType": "A100",
      "machine_shape": "hm",
      "provenance": []
    },
    "kernelspec": {
      "display_name": "Python 3",
      "name": "python3"
    },
    "language_info": {
      "name": "python"
    }
  },
  "nbformat": 4,
  "nbformat_minor": 0
}